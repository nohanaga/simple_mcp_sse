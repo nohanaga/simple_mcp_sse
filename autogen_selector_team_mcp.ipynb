{
 "cells": [
  {
   "cell_type": "markdown",
   "id": "64531552",
   "metadata": {},
   "source": [
    "# MCP(HTTP with SSE) を AutoGen の Selector Group Chat からコール"
   ]
  },
  {
   "cell_type": "code",
   "execution_count": null,
   "id": "7c183235",
   "metadata": {},
   "outputs": [],
   "source": [
    "import os\n",
    "from dotenv import load_dotenv\n",
    "from autogen_ext.tools.mcp import SseServerParams, mcp_server_tools\n",
    "from autogen_agentchat.agents import AssistantAgent\n",
    "from autogen_agentchat.conditions import MaxMessageTermination, TextMentionTermination, TimeoutTermination\n",
    "from autogen_agentchat.messages import AgentEvent, ChatMessage\n",
    "from autogen_agentchat.teams import SelectorGroupChat\n",
    "from autogen_agentchat.ui import Console\n",
    "from autogen_ext.models.openai import OpenAIChatCompletionClient, AzureOpenAIChatCompletionClient\n",
    "\n",
    "load_dotenv()\n",
    "\n",
    "endpoint = os.getenv(\"AZURE_OPENAI_ENDPOINT\")\n",
    "apikey = os.getenv(\"AZURE_OPENAI_API_KEY\")\n",
    "model_deployment = os.getenv(\"AZURE_OPENAI_MODEL_DEPLOYMENT\")\n"
   ]
  },
  {
   "cell_type": "markdown",
   "id": "5fb41822",
   "metadata": {},
   "source": [
    "## HTTP with SSE 設定\n",
    "SSE 転送では、サーバーは複数のクライアント接続を処理できる独立したプロセスとして動作します。"
   ]
  },
  {
   "cell_type": "code",
   "execution_count": null,
   "id": "cf200234",
   "metadata": {},
   "outputs": [],
   "source": [
    "\n",
    "# Setup server params for remote service\n",
    "server_params = SseServerParams(url=\"http://localhost:8000/sse\")\n",
    "\n",
    "# Get all available tools\n",
    "tools = await mcp_server_tools(server_params)\n",
    "\n",
    "client = AzureOpenAIChatCompletionClient(\n",
    "    azure_deployment=model_deployment,\n",
    "    model=\"gpt-4o\",\n",
    "    api_key=apikey,\n",
    "    api_version=\"2025-03-01-preview\",\n",
    "    azure_endpoint=endpoint,\n",
    ")\n",
    "\n",
    "# Define termination condition\n",
    "max_msg_termination = MaxMessageTermination(max_messages=10)\n",
    "text_termination = TextMentionTermination(\"TERMINATE\")\n",
    "time_terminarion = TimeoutTermination(120)\n",
    "combined_termination = max_msg_termination | text_termination | time_terminarion\n"
   ]
  },
  {
   "cell_type": "markdown",
   "id": "9f46d14b",
   "metadata": {},
   "source": [
    "## Agent と Selector Team 定義"
   ]
  },
  {
   "cell_type": "code",
   "execution_count": 5,
   "id": "8e5fcd8b",
   "metadata": {},
   "outputs": [],
   "source": [
    "planning_agent = AssistantAgent(\n",
    "    \"PlanningAgent\",\n",
    "    description=\"タスクを計画するエージェント。新しいタスクが与えられたときに最初に起動するエージェントであるべきである。\",\n",
    "    model_client=client,\n",
    "    system_message=\"\"\"\n",
    "    あなたはplanning agentです。\n",
    "    あなたの仕事は、複雑なタスクをより小さく、管理しやすいサブタスクに分解することです。\n",
    "    あなたのチームメンバーは次の通りです。\n",
    "     - travel_agent: 日本の観光の専門家\n",
    "    あなたは計画を立て、タスクを委任するだけで、自分で実行することはありません。\n",
    "\n",
    "    タスクを割り当てる際には、このフォーマットを使用してください:\n",
    "    1. <agent> : <task>\n",
    "\n",
    "    最終回答が完成したら調査結果を要約し、文の最後に TERMINATE を含めること!\n",
    "    \"\"\",\n",
    ")\n",
    "# Create an agent with all tools\n",
    "travel_agent = AssistantAgent(\n",
    "    name=\"TravelAgent\",\n",
    "    model_client=client,\n",
    "    tools=tools,\n",
    "    system_message=\"あなたは優秀なトラベルエージェントです。ツールを使って旅行の計画を手伝ってください。\",\n",
    ")\n",
    "\n",
    "team = SelectorGroupChat(\n",
    "    [planning_agent, travel_agent],\n",
    "    model_client=client,\n",
    "    termination_condition=combined_termination,\n",
    ")\n"
   ]
  },
  {
   "cell_type": "code",
   "execution_count": 6,
   "id": "41ba94f7",
   "metadata": {},
   "outputs": [
    {
     "name": "stdout",
     "output_type": "stream",
     "text": [
      "---------- user ----------\n",
      "なんかいい旅行先ない？\n"
     ]
    },
    {
     "name": "stderr",
     "output_type": "stream",
     "text": [
      "/Users/han/opt/anaconda3/envs/autogen049/lib/python3.11/site-packages/autogen_agentchat/teams/_group_chat/_selector_group_chat.py:169: UserWarning: Resolved model mismatch: gpt-4o-2024-08-06 != gpt-4o-2024-11-20. Model mapping in autogen_ext.models.openai may be incorrect. Set the model to gpt-4o-2024-11-20 to enhance token/cost estimation and suppress this warning.\n",
      "  response = await self._model_client.create(messages=select_speaker_messages)\n"
     ]
    },
    {
     "name": "stdout",
     "output_type": "stream",
     "text": [
      "---------- PlanningAgent ----------\n",
      "1. travel_agent : 日本国内のおすすめ旅行先を調査して提案する\n",
      "\n",
      "以上のタスクを割り当てます。\n"
     ]
    },
    {
     "name": "stderr",
     "output_type": "stream",
     "text": [
      "/Users/han/opt/anaconda3/envs/autogen049/lib/python3.11/site-packages/autogen_agentchat/agents/_assistant_agent.py:869: UserWarning: Resolved model mismatch: gpt-4o-2024-08-06 != gpt-4o-2024-11-20. Model mapping in autogen_ext.models.openai may be incorrect. Set the model to gpt-4o-2024-11-20 to enhance token/cost estimation and suppress this warning.\n",
      "  model_result = await model_client.create(\n"
     ]
    },
    {
     "name": "stdout",
     "output_type": "stream",
     "text": [
      "---------- TravelAgent ----------\n",
      "[FunctionCall(id='call_QgLdka0fwYK9IC7II7NeuGc5', arguments='{}', name='suggest_onsen_destination')]\n",
      "---------- TravelAgent ----------\n",
      "[FunctionExecutionResult(content=\"[TextContent(type='text', text='城崎温泉（兵庫県）', annotations=None)]\", name='suggest_onsen_destination', call_id='call_QgLdka0fwYK9IC7II7NeuGc5', is_error=False)]\n",
      "---------- TravelAgent ----------\n",
      "[TextContent(type='text', text='城崎温泉（兵庫県）', annotations=None)]\n",
      "---------- PlanningAgent ----------\n",
      "旅行のおすすめ先として「城崎温泉（兵庫県）」が提案されました。伝統的な温泉街の雰囲気と外湯巡りが楽しめる魅力的な場所です。TERMINATE\n"
     ]
    },
    {
     "data": {
      "text/plain": [
       "TaskResult(messages=[TextMessage(source='user', models_usage=None, metadata={}, content='なんかいい旅行先ない？', type='TextMessage'), TextMessage(source='PlanningAgent', models_usage=RequestUsage(prompt_tokens=179, completion_tokens=31), metadata={}, content='1. travel_agent : 日本国内のおすすめ旅行先を調査して提案する\\n\\n以上のタスクを割り当てます。', type='TextMessage'), ToolCallRequestEvent(source='TravelAgent', models_usage=RequestUsage(prompt_tokens=280, completion_tokens=15), metadata={}, content=[FunctionCall(id='call_QgLdka0fwYK9IC7II7NeuGc5', arguments='{}', name='suggest_onsen_destination')], type='ToolCallRequestEvent'), ToolCallExecutionEvent(source='TravelAgent', models_usage=None, metadata={}, content=[FunctionExecutionResult(content=\"[TextContent(type='text', text='城崎温泉（兵庫県）', annotations=None)]\", name='suggest_onsen_destination', call_id='call_QgLdka0fwYK9IC7II7NeuGc5', is_error=False)], type='ToolCallExecutionEvent'), ToolCallSummaryMessage(source='TravelAgent', models_usage=None, metadata={}, content=\"[TextContent(type='text', text='城崎温泉（兵庫県）', annotations=None)]\", type='ToolCallSummaryMessage'), TextMessage(source='PlanningAgent', models_usage=RequestUsage(prompt_tokens=245, completion_tokens=54), metadata={}, content='旅行のおすすめ先として「城崎温泉（兵庫県）」が提案されました。伝統的な温泉街の雰囲気と外湯巡りが楽しめる魅力的な場所です。TERMINATE', type='TextMessage')], stop_reason=\"Text 'TERMINATE' mentioned\")"
      ]
     },
     "execution_count": 6,
     "metadata": {},
     "output_type": "execute_result"
    }
   ],
   "source": [
    "\n",
    "#task = \"2025年おすすめの旅行先を推薦してください。\" \n",
    "task = \"なんかいい旅行先ない？\"\n",
    "\n",
    "# Use asyncio.run(...) if you are running this in a script.\n",
    "await Console(team.run_stream(task=task))"
   ]
  },
  {
   "cell_type": "code",
   "execution_count": null,
   "id": "d868d795",
   "metadata": {},
   "outputs": [],
   "source": []
  }
 ],
 "metadata": {
  "kernelspec": {
   "display_name": "autogen049",
   "language": "python",
   "name": "python3"
  },
  "language_info": {
   "codemirror_mode": {
    "name": "ipython",
    "version": 3
   },
   "file_extension": ".py",
   "mimetype": "text/x-python",
   "name": "python",
   "nbconvert_exporter": "python",
   "pygments_lexer": "ipython3",
   "version": "3.11.11"
  }
 },
 "nbformat": 4,
 "nbformat_minor": 5
}
